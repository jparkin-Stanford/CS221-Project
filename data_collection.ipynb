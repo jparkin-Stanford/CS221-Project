{
 "cells": [
  {
   "cell_type": "code",
   "execution_count": 2,
   "metadata": {},
   "outputs": [
    {
     "data": {
      "text/plain": [
       "\"\\ndef financialsIntoTiles(data, n):\\n    financials = data\\n    for column in list(data.columns):\\n        financials[column] = financials[column].fillna(0)\\n        financials[column] = pd.qcut(data[column],n,labels=False, duplicates = 'drop')\\n    return financials\\n\""
      ]
     },
     "execution_count": 2,
     "metadata": {},
     "output_type": "execute_result"
    }
   ],
   "source": [
    "import random\n",
    "import collections\n",
    "import math\n",
    "import sys\n",
    "import numpy as np\n",
    "import yfinance as yf\n",
    "import pandas as pd\n",
    "import pandas_datareader as pdr\n",
    "\n",
    "\n",
    "##KEY CODE\n",
    "\n",
    "def importTickerNames():\n",
    "    #http://www.nasdaqtrader.com/trader.aspx?id=symboldirdefs\n",
    "    nasdaqData = pd.read_csv('nasdaqlisted.txt', sep = \"|\")\n",
    "    nasdaqData = nasdaqData[nasdaqData[\"ETF\"] == \"N\"]\n",
    "    nasdaqList  = nasdaqData[\"Symbol\"].tolist()\n",
    "    nasdaqList = nasdaqList[:len(nasdaqList)-1]\n",
    "    otherData = pd.read_csv('otherlisted.txt', sep = \"|\")\n",
    "    otherData = otherData[otherData[\"ETF\"] == \"N\"]\n",
    "    otherList = otherData[\"ACT Symbol\"].tolist() \n",
    "    symbolList = nasdaqList + otherList\n",
    "    symbolList.sort()\n",
    "    with open('tickerList.txt', 'w') as filehandle:\n",
    "        filehandle.writelines(\"%s\\n\" % symbol for symbol in symbolList)\n",
    "    return symbolList\n",
    "   \n",
    "\n",
    "def getPERMNO():\n",
    "    data = pd.read_csv('pricesData.csv', sep = \",\")\n",
    "    permnoList = data[\"PERMNO\"].to_list()\n",
    "    permnoList = list(dict.fromkeys(permnoList))\n",
    "    with open('permnoList.txt', 'w') as filehandle:\n",
    "        filehandle.writelines(\"%s\\n\" % permno for permno in permnoList)\n",
    "    return permnoList\n",
    "\n",
    "def bullMarketData(data):\n",
    "    #https://www.cnbc.com/2020/03/14/a-look-at-bear-and-bull-markets-through-history.html\n",
    "    startDates = [\"1932/06/01\", \"1942/04/22\", \"1949/06/14\", \"1957/10/22\", \"1962/06/27\", \"1966/10/07\", \"1970/05/26\", \"1974/10/3\", \"1982/08/12\", \"1987/12/04\", \"1990/10/11\", \"2002/10/09\", \"2009/03/09\"]\n",
    "    endDates = [\"1937/03/05\", \"1946/05/28\", \"1956/08/01\", \"1961/12/11\", \"1966/02/08\", \"1968-11-28\", \"1973/01/10\", \"1980/11/27\", \"1987/08/24\", \"1990/07/15\", \"2000/03/23\", \"2007/10/08\", \"2020/02/18\"]\n",
    "    data = data[((data[\"date\"] > startDates[5]) & (data[\"date\"] < endDates[5])) | ((data[\"date\"] > startDates[6]) & (data[\"date\"] < endDates[6]))| ((data[\"date\"] > startDates[7]) & (data[\"date\"] < endDates[7]))| ((data[\"date\"] > startDates[8]) & (data[\"date\"] < endDates[8]))| ((data[\"date\"] > startDates[9]) & (data[\"date\"] < endDates[9]))| ((data[\"date\"] > startDates[10]) & (data[\"date\"] < endDates[10]))| ((data[\"date\"] > startDates[11]) & (data[\"date\"] < endDates[11]))| ((data[\"date\"] > startDates[12]) & (data[\"date\"] < endDates[12]))]\n",
    "    return data\n",
    "\n",
    "def bearMarketData(data):\n",
    "    #https://www.cnbc.com/2020/03/14/a-look-at-bear-and-bull-markets-through-history.html\n",
    "    startDates = [\"1937/03/06\", \"1946/05/29\", \"1956/08/02\", \"1961/12/12\", \"1966/02/09\", \"1968/11/29\", \"1973/01/11\", \"1980/11/28\", \"1987/08/25\", \"1990/07/16\", \"2000/03/24\", \"2007/10/09\", \"2020/02/19\"]\n",
    "    endDates = [\"1942/04/28\",\"1949/06/13\", \"1957/10/21\", \"1962/06/26\", \"1966/10/06\", \"1970/05/25\", \"1974/10/2\", \"1982/08/11\", \"1987/12/03\", \"1990/10/10\", \"2002/10/08\", \"2009/03/08\", \"2020/04/21\"]\n",
    "    data = data[((data[\"date\"] > startDates[5]) & (data[\"date\"] < endDates[5])) | ((data[\"date\"] > startDates[6]) & (data[\"date\"] < endDates[6]))| ((data[\"date\"] > startDates[7]) & (data[\"date\"] < endDates[7]))| ((data[\"date\"] > startDates[8]) & (data[\"date\"] < endDates[8]))| ((data[\"date\"] > startDates[9]) & (data[\"date\"] < endDates[9]))| ((data[\"date\"] > startDates[10]) & (data[\"date\"] < endDates[10]))| ((data[\"date\"] > startDates[11]) & (data[\"date\"] < endDates[11]))| ((data[\"date\"] > startDates[12]) & (data[\"date\"] < endDates[12]))]\n",
    "    return data \n",
    "\n",
    "def getData():\n",
    "    #prices & volume: https://wrds-web-wharton-upenn-edu.stanford.idm.oclc.org/wrds/ds/wrdsapps/finratiofirm/index.cfm?navId=83\n",
    "    pricesData = pd.read_csv('pricesData.csv', sep = \",\")\n",
    "    financialRatiosData = pd.read_csv('financialRatiosData.csv', sep = \",\")\n",
    "    return pricesData, financialRatiosData\n",
    "\n",
    "def addMomentumFactor(pricesData):\n",
    "    #Add Momentum Factor \n",
    "    momentum = list(pricesData[\"PRC\"])\n",
    "    #print(([0] + momentum)[:10])\n",
    "    #print(momentum[:10])\n",
    "    momentum = np.divide(np.subtract(momentum , [0] + momentum[:-1]), [0] + momentum[:-1])\n",
    "    pricesData[\"Momentum\"] = momentum\n",
    "    '''\n",
    "    prevNum = 0\n",
    "    for i in range(0, len(pricesData[\"Momentum\"])):\n",
    "        if pricesData[\"PERMNO\"][i] > prevNum:\n",
    "            prev = pricesData[\"PERMNO\"][i]\n",
    "            pricesData[\"Momentum\"][i] = float(\"nan\")\n",
    "    print(pricesData.head())\n",
    "    '''\n",
    "    \n",
    "def mergeData(pricesData, financialRatiosData):\n",
    "    dates = list(pricesData[\"date\"])\n",
    "    monthList = []\n",
    "    for date in dates:\n",
    "        monthList.append(date[:7])\n",
    "    pricesData[\"Month\"] = monthList\n",
    "    \n",
    "    dates = financialRatiosData[\"public_date\"].to_list()\n",
    "    monthList = []\n",
    "    for date in dates:\n",
    "        monthList.append(date[:7])\n",
    "    financialRatiosData[\"Month\"] = monthList\n",
    "    \n",
    "    totalData = pd.DataFrame(columns = list(pricesData.columns) + list(financialRatiosData.columns)[4:-1])\n",
    "    nums = np.unique(list(pricesData[\"PERMNO\"]))\n",
    "    for num in nums:\n",
    "        numData1 = pricesData[pricesData[\"PERMNO\"] == num]\n",
    "        numData2 = financialRatiosData[financialRatiosData[\"permno\"] == num]\n",
    "        numData2 = numData2.drop(['permno', 'adate', 'qdate', 'public_date'], axis = 1)\n",
    "        result = pd.merge(numData1, numData2, on = \"Month\")\n",
    "        totalData = pd.concat([totalData,result])\n",
    "        print(num)\n",
    "    return totalData\n",
    "    \n",
    "    \n",
    "#EXTRA CODE\n",
    "'''\n",
    "def financialsIntoTiles(data, n):\n",
    "    financials = data\n",
    "    for column in list(data.columns):\n",
    "        financials[column] = financials[column].fillna(0)\n",
    "        financials[column] = pd.qcut(data[column],n,labels=False, duplicates = 'drop')\n",
    "    return financials\n",
    "'''"
   ]
  },
  {
   "cell_type": "code",
   "execution_count": 3,
   "metadata": {
    "scrolled": true
   },
   "outputs": [],
   "source": [
    "#Data Cleaning\n",
    "data = pd.read_csv('totalData.csv', sep = \",\")\n",
    "removeColumnTotal = [\"PEG_trailing\", \"DIVYIELD\",\"PEG_ltgforward\", \"dpr\", \"pe_op_basic\", \"fcf_ocf\"]\n",
    "data = data.drop(columns= removeColumnTotal)\n",
    "removeColumnNAs = [\"TICKER\",\"invt_act\", \"CAPEI\",\"pe_inc\",\"bm\"]\n",
    "data = data.dropna(how='any', subset= removeColumnNAs)"
   ]
  },
  {
   "cell_type": "code",
   "execution_count": 4,
   "metadata": {},
   "outputs": [],
   "source": [
    "#Spilt Data\n",
    "bearData = bearMarketData(data)\n",
    "bullData = bullMarketData(data)\n",
    "trainBullData = bullData[bullData[\"date\"] < \"2007/10/08\"]\n",
    "testBullData = bullData[bullData[\"date\"] > \"2007/10/08\"]\n"
   ]
  },
  {
   "cell_type": "code",
   "execution_count": 5,
   "metadata": {},
   "outputs": [],
   "source": [
    "#Save files\n",
    "trainBullData.to_csv('trainBullData.csv')\n",
    "testBullData.to_csv('testBullData.csv')\n",
    "bearData.to_csv('bearData.csv')"
   ]
  },
  {
   "cell_type": "code",
   "execution_count": 217,
   "metadata": {},
   "outputs": [],
   "source": [
    "trainBullData = pd.read_csv(\"trainBullData.csv\")\n",
    "trainBullData = trainBullData.sort_values('date')\n",
    "testBullData = pd.read_csv(\"testBullData.csv\")\n",
    "testBullData = testBullData.sort_values('date')\n",
    "#Normalization\n",
    "colToNorm = [\"PRC\", 'VOL','Momentum', 'CAPEI', 'bm', 'evm', 'pe_inc', 'ps', 'pcf','ptpm', 'roa', 'roe', 'roce', 'aftret_invcapx', 'aftret_equity','GProf', 'equity_invcap', 'debt_invcap', 'capital_ratio', 'invt_act','rect_act', 'cash_debt', 'dltt_be', 'de_ratio', 'cash_ratio','quick_ratio', 'curr_ratio', 'rd_sale', 'ptb']\n",
    "for stock in trainBullData[\"PERMNO\"].unique():\n",
    "    stockData = trainBullData[trainBullData[\"PERMNO\"] == stock]\n",
    "    stockData[colToNorm] = stockData[colToNorm].apply(lambda x: (x - x.min()) / (x.max() - x.min()))\n",
    "    trainBullData[trainBullData[\"PERMNO\"] == stock] = stockData\n",
    "for stock in testBullData[\"PERMNO\"].unique():\n",
    "    stockData = testBullData[testBullData[\"PERMNO\"] == stock]\n",
    "    stockData[colToNorm] = stockData[colToNorm].apply(lambda x: (x - x.min()) / (x.max() - x.min()))\n",
    "    testBullData[testBullData[\"PERMNO\"] == stock] = stockData"
   ]
  },
  {
   "cell_type": "code",
   "execution_count": null,
   "metadata": {},
   "outputs": [],
   "source": []
  }
 ],
 "metadata": {
  "kernelspec": {
   "display_name": "Python 3",
   "language": "python",
   "name": "python3"
  },
  "language_info": {
   "codemirror_mode": {
    "name": "ipython",
    "version": 3
   },
   "file_extension": ".py",
   "mimetype": "text/x-python",
   "name": "python",
   "nbconvert_exporter": "python",
   "pygments_lexer": "ipython3",
   "version": "3.7.4"
  }
 },
 "nbformat": 4,
 "nbformat_minor": 2
}
